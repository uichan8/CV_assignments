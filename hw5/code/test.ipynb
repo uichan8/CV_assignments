{
 "cells": [
  {
   "cell_type": "code",
   "execution_count": 4,
   "metadata": {},
   "outputs": [
    {
     "name": "stdout",
     "output_type": "stream",
     "text": [
      "The autoreload extension is already loaded. To reload it, use:\n",
      "  %reload_ext autoreload\n"
     ]
    }
   ],
   "source": [
    "import csv\n",
    "import sys\n",
    "import argparse\n",
    "import numpy as np\n",
    "import scipy.io as scio\n",
    "\n",
    "import matplotlib\n",
    "%matplotlib inline\n",
    "%load_ext autoreload\n",
    "%autoreload 2\n",
    "\n",
    "import matplotlib.pyplot as plt\n",
    "\n",
    "from skimage import io, filters, feature, img_as_float32\n",
    "from skimage.transform import rescale\n",
    "from skimage.color import rgb2gray\n",
    "\n",
    "import student as student\n",
    "np.random.seed(0)\n",
    "hlf_sz = (18,18)"
   ]
  },
  {
   "cell_type": "code",
   "execution_count": 5,
   "metadata": {},
   "outputs": [],
   "source": [
    "DATA_NUM = 1\n",
    "data_pos = student.load_folder_imgs('../data/pos', hlf_sz)[:DATA_NUM,:,:]\n",
    "data_neg = student.load_folder_imgs('../data/neg', hlf_sz)[:DATA_NUM,:,:]\n",
    "\n",
    "# concatenate all images\n",
    "n_p = data_pos.shape[0]\n",
    "n_n = data_neg.shape[0]\n",
    "data = np.row_stack([data_pos, data_neg])\n",
    "# create ndarray to store positive/negative labels\n",
    "labels = np.row_stack([np.ones([n_p,1]), np.zeros([n_n,1])])\n",
    "weights = np.row_stack([np.ones([n_p,1]), np.ones([n_n,1])]).astype(np.float32)"
   ]
  },
  {
   "cell_type": "markdown",
   "metadata": {},
   "source": [
    "# Part1. CumSum"
   ]
  },
  {
   "cell_type": "code",
   "execution_count": 6,
   "metadata": {},
   "outputs": [
    {
     "name": "stdout",
     "output_type": "stream",
     "text": [
      "test1\n",
      "0.013184151439411183\n",
      "0.013184151439411183\n",
      "test2\n",
      "0.05969086335263495\n",
      "0.05969086335263492\n",
      "test3\n",
      "1.0664949826044712e-13\n"
     ]
    }
   ],
   "source": [
    "iimgs = student.get_integral_imgaes(data)\n",
    "\n",
    "print(\"test1\")\n",
    "print(data[0,1:3,1:4].sum())\n",
    "print(iimgs[0,2,3] - iimgs[0,0,3] - iimgs[0,2,0] + iimgs[0,0,0])\n",
    "\n",
    "print(\"test2\")\n",
    "print(data[0,5:9,10:15].sum())\n",
    "print(iimgs[0,8,14] - iimgs[0,4,14] - iimgs[0,8,9] + iimgs[0,4,9])\n",
    "\n",
    "print(\"test3\")\n",
    "iimgs2 = np.cumsum(np.cumsum(data, axis=1), axis=2)\n",
    "print(np.abs(iimgs2 - iimgs).sum())"
   ]
  },
  {
   "cell_type": "markdown",
   "metadata": {},
   "source": [
    "# Part2. get feature"
   ]
  },
  {
   "cell_type": "code",
   "execution_count": 22,
   "metadata": {},
   "outputs": [
    {
     "name": "stdout",
     "output_type": "stream",
     "text": [
      "test 2h\n",
      "2.2111574723981953e-12\n",
      "test 2v\n",
      "2.4798568146883193e-12\n",
      "test 3h\n",
      "1.1103158323311213e-12\n",
      "test 3v\n",
      "1.2836780249880775e-12\n",
      "test 4\n",
      "1.0587418528690273e-12\n"
     ]
    }
   ],
   "source": [
    "LOAD_SAVE_DATA = False\n",
    "\n",
    "# 1. 각 feature 종류마다 가능한 위치/크기 값 x, y, w, h을 shape = (개수 x 4)인 ndarray 형태로 도출하는 함수를 구현하시오.\n",
    "feat2h_ps = student.get_feature_pos_sz_2h(hlf_sz)\n",
    "feat2v_ps = student.get_feature_pos_sz_2v(hlf_sz)\n",
    "feat3h_ps = student.get_feature_pos_sz_3h(hlf_sz)\n",
    "feat3v_ps = student.get_feature_pos_sz_3v(hlf_sz)\n",
    "feat4_ps = student.get_feature_pos_sz_4(hlf_sz)\n",
    "\n",
    "\n",
    "# 2. 각 feature 종류별로 feature 값을 모두 계산하는 함수를 구현하시오. 계산된 feature 값들은 shape (n_image x n_feat)의 ndarray 형태로 도출하시오.\n",
    "print(\"test 2h\")\n",
    "feat2h = student.compute_features_2h(feat2h_ps ,iimgs)\n",
    "test2h = student.test_compute_features_2h(feat2h_ps ,data)\n",
    "print(np.abs(feat2h - test2h).sum())\n",
    "\n",
    "print(\"test 2v\")\n",
    "feat2v = student.compute_features_2v(feat2v_ps ,iimgs)\n",
    "test2v = student.test_compute_features_2v(feat2v_ps ,data)\n",
    "print(np.abs(feat2v - test2v).sum())\n",
    "\n",
    "print(\"test 3h\")\n",
    "feat3h = student.compute_features_3h(feat3h_ps ,iimgs)\n",
    "test3h = student.test_compute_features_3h(feat3h_ps ,data)\n",
    "print(np.abs(feat3h - test3h).sum())\n",
    "\n",
    "print(\"test 3v\")\n",
    "feat3v = student.compute_features_3v(feat3v_ps ,iimgs)\n",
    "test3v = student.test_compute_features_3v(feat3v_ps ,data)\n",
    "print(np.abs(feat3v - test3v).sum())\n",
    "\n",
    "\n",
    "print(\"test 4\")\n",
    "feat4 = student.compute_features_4(feat4_ps ,iimgs)\n",
    "test4 = student.test_compute_features_4(feat4_ps ,data)\n",
    "print(np.abs(feat4 - test4).sum())\n",
    "\n",
    "# concatenate computed features\n",
    "feat = np.column_stack(([feat2h, feat2v, feat3h, feat3v, feat4]))\n",
    "\n",
    "num_feat_per_type = [feat2h_ps.shape[0], feat2v_ps.shape[0], feat3h_ps.shape[0], feat3v_ps.shape[0], feat4_ps.shape[0]]\n",
    "feat_ps = np.row_stack([feat2h_ps, feat2v_ps, feat3h_ps, feat3v_ps, feat4_ps])\n"
   ]
  },
  {
   "cell_type": "code",
   "execution_count": 23,
   "metadata": {},
   "outputs": [
    {
     "name": "stderr",
     "output_type": "stream",
     "text": [
      "100%|██████████| 1/1 [00:00<00:00, 2462.89it/s]\n"
     ]
    }
   ],
   "source": [
    "thetas, signs, errors = student.get_weak_classifiers(feat, labels, weights)\n"
   ]
  },
  {
   "cell_type": "code",
   "execution_count": 59,
   "metadata": {},
   "outputs": [
    {
     "data": {
      "text/plain": [
       "-0.0019163976652357972"
      ]
     },
     "execution_count": 59,
     "metadata": {},
     "output_type": "execute_result"
    }
   ],
   "source": []
  },
  {
   "cell_type": "code",
   "execution_count": 13,
   "metadata": {},
   "outputs": [
    {
     "data": {
      "text/plain": [
       "[3822, 3822, 2730, 2730, 1764]"
      ]
     },
     "execution_count": 13,
     "metadata": {},
     "output_type": "execute_result"
    }
   ],
   "source": [
    "num_feat_per_type"
   ]
  },
  {
   "cell_type": "code",
   "execution_count": null,
   "metadata": {},
   "outputs": [],
   "source": []
  }
 ],
 "metadata": {
  "kernelspec": {
   "display_name": "base",
   "language": "python",
   "name": "python3"
  },
  "language_info": {
   "codemirror_mode": {
    "name": "ipython",
    "version": 3
   },
   "file_extension": ".py",
   "mimetype": "text/x-python",
   "name": "python",
   "nbconvert_exporter": "python",
   "pygments_lexer": "ipython3",
   "version": "3.11.5"
  }
 },
 "nbformat": 4,
 "nbformat_minor": 2
}
